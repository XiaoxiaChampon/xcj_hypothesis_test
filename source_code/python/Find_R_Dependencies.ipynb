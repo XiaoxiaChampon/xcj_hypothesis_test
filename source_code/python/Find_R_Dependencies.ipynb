{
 "cells": [
  {
   "cell_type": "code",
   "execution_count": 1,
   "id": "301b3ea0",
   "metadata": {},
   "outputs": [],
   "source": [
    "import re\n",
    "import os\n",
    "import glob"
   ]
  },
  {
   "cell_type": "code",
   "execution_count": 2,
   "id": "824457f1",
   "metadata": {},
   "outputs": [],
   "source": [
    "class DependancyFinder:\n",
    "    \n",
    "    source_call_pattern = re.compile(r'source\\s*\\(\\s*[\"\\'](.*?)[\"\\']\\s*\\)')\n",
    "    \n",
    "    def __init__(self, working_dir, file_path):\n",
    "        self.working_dir = working_dir\n",
    "        self.root_file = file_path\n",
    "        self.dependencies = set()\n",
    "        self.files_read = set()\n",
    "        \n",
    "    def __get_abs_path(self, file_path):\n",
    "        if not os.path.isabs(file_path):\n",
    "            return os.path.abspath(os.path.join(self.working_dir, file_path))\n",
    "        return file_path\n",
    "            \n",
    "    \n",
    "    def __find_deps(self, new_file):\n",
    "        new_file = self.__get_abs_path(new_file)\n",
    "        if new_file not in self.files_read:\n",
    "            print(f\"reading {new_file}\")\n",
    "            this_deps = set()\n",
    "            with open(new_file, 'r') as fin:\n",
    "                for line in fin:\n",
    "                    matches = self.source_call_pattern.findall(line)\n",
    "                    matches = [self.__get_abs_path(file) for file in matches]\n",
    "                    this_deps.update(matches)\n",
    "            self.dependencies.update(this_deps)\n",
    "            self.files_read.add(new_file)\n",
    "            return this_deps\n",
    "                    \n",
    "    def find(self):\n",
    "        self.__find_deps(self.root_file)\n",
    "        diff = self.dependencies.difference(self.files_read)\n",
    "        itr = 0\n",
    "        while len(diff) > 0 and itr < 10000:\n",
    "            itr += 1\n",
    "            for file in diff:\n",
    "                self.__find_deps(file)\n",
    "            diff = self.dependencies.difference(self.files_read)\n",
    "        return self.dependencies"
   ]
  },
  {
   "cell_type": "code",
   "execution_count": 3,
   "id": "051d3e70",
   "metadata": {},
   "outputs": [],
   "source": [
    "# Folder where the RProject file is using as the working directory (use the getwd() return value )\n",
    "working_dir = '/Users/xzhao17/Documents/GitHub/xcj_hypothesis_test_cfd'"
   ]
  },
  {
   "cell_type": "code",
   "execution_count": 4,
   "id": "d2ea1496",
   "metadata": {},
   "outputs": [
    {
     "name": "stdout",
     "output_type": "stream",
     "text": [
      "reading /Users/xzhao17/Documents/GitHub/xcj_hypothesis_test_cfd/source_code/R/T_testing_hazel.R\n",
      "reading /Users/xzhao17/Documents/GitHub/xcj_hypothesis_test_cfd/source_code/R/time_track_function.R\n",
      "reading /Users/xzhao17/Documents/GitHub/xcj_hypothesis_test_cfd/source_code/R/T_testing_functions.R\n",
      "reading /Users/xzhao17/Documents/GitHub/xcj_hypothesis_test_cfd/source_code/R/data_generator.R\n",
      "reading /Users/xzhao17/Documents/GitHub/xcj_hypothesis_test_cfd/source_code/R/integral_penalty_function.R\n",
      "reading /Users/xzhao17/Documents/GitHub/xcj_hypothesis_test_cfd/source_code/R/cfd_hypothesis_test.R\n",
      "reading /Users/xzhao17/Documents/GitHub/xcj_hypothesis_test_cfd/source_code/R/run_gam_function.R\n"
     ]
    },
    {
     "data": {
      "text/plain": [
       "{'/Users/xzhao17/Documents/GitHub/xcj_hypothesis_test_cfd/source_code/R/T_testing_functions.R',\n",
       " '/Users/xzhao17/Documents/GitHub/xcj_hypothesis_test_cfd/source_code/R/cfd_hypothesis_test.R',\n",
       " '/Users/xzhao17/Documents/GitHub/xcj_hypothesis_test_cfd/source_code/R/data_generator.R',\n",
       " '/Users/xzhao17/Documents/GitHub/xcj_hypothesis_test_cfd/source_code/R/integral_penalty_function.R',\n",
       " '/Users/xzhao17/Documents/GitHub/xcj_hypothesis_test_cfd/source_code/R/run_gam_function.R',\n",
       " '/Users/xzhao17/Documents/GitHub/xcj_hypothesis_test_cfd/source_code/R/time_track_function.R'}"
      ]
     },
     "execution_count": 4,
     "metadata": {},
     "output_type": "execute_result"
    }
   ],
   "source": [
    "depfind = DependancyFinder(working_dir, './source_code/R/T_testing_hazel.R')\n",
    "depfind.find()"
   ]
  },
  {
   "cell_type": "code",
   "execution_count": 9,
   "id": "fb7e5bf7",
   "metadata": {},
   "outputs": [
    {
     "name": "stdout",
     "output_type": "stream",
     "text": [
      "put time_track_function.R\n",
      "put cfd_hypothesis_test.R\n",
      "put run_gam_function.R\n",
      "put integral_penalty_function.R\n",
      "put T_testing_functions.R\n",
      "put data_generator.R\n",
      "\n"
     ]
    }
   ],
   "source": [
    "for file in depfind.dependencies:\n",
    "    print(f\"put {os.path.basename(file)}\")\n",
    "print(\"\")"
   ]
  },
  {
   "cell_type": "code",
   "execution_count": null,
   "id": "d82af02e",
   "metadata": {},
   "outputs": [],
   "source": []
  }
 ],
 "metadata": {
  "kernelspec": {
   "display_name": "Python 3 (ipykernel)",
   "language": "python",
   "name": "python3"
  },
  "language_info": {
   "codemirror_mode": {
    "name": "ipython",
    "version": 3
   },
   "file_extension": ".py",
   "mimetype": "text/x-python",
   "name": "python",
   "nbconvert_exporter": "python",
   "pygments_lexer": "ipython3",
   "version": "3.9.18"
  }
 },
 "nbformat": 4,
 "nbformat_minor": 5
}
