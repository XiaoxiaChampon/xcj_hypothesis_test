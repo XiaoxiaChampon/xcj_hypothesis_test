{
 "cells": [
  {
   "cell_type": "code",
   "execution_count": 1,
   "id": "2f95cbd6",
   "metadata": {},
   "outputs": [],
   "source": [
    "import os.path\n",
    "import glob\n",
    "import pandas as pd\n",
    "import re"
   ]
  },
  {
   "cell_type": "code",
   "execution_count": 2,
   "id": "e1d422f4-f7d4-48ff-ad83-7b2419117d9b",
   "metadata": {},
   "outputs": [],
   "source": [
    "PRE_TEXT = r\"\"\"\n",
    "\\begin{table}[H]\n",
    "\\begin{tabular}{lll|ll|ll}\n",
    "\\hline\n",
    " & & & \\multicolumn{2}{c|}{$\\alpha$=0.05} & \\multicolumn{2}{c}{$\\alpha$=0.1} \\\\ \\hline\n",
    "\\multicolumn{1}{l|}{n} & \\multicolumn{1}{l|}{$\\beta(t)$} & $\\delta$ &  $H_0=c$  &  $H_0=0$  & $H_0=c$ & $H_0=0$ \\\\ \\hline\n",
    "\"\"\"\n",
    "\n",
    "POST_TEXT = r\"\"\"\n",
    "\\end{tabular}\n",
    "\\caption{Rejection Rate(Standard Error) for $5000$ simulations when the number of time points is $<timepoints_value/>$ using RLRT and L2 penalty for non-testing item }\n",
    "\\label{typeI<timepoints_value/>l2gam}\n",
    "\\end{table}\n",
    "\"\"\""
   ]
  },
  {
   "cell_type": "code",
   "execution_count": 3,
   "id": "f6d8a33c-44a6-4bae-b71c-a53b104517ab",
   "metadata": {},
   "outputs": [
    {
     "data": {
      "text/plain": [
       "['/Users/xzhao17/Documents/GitHub/xcj_hypothesis_test_cfd/gam_90.csv',\n",
       " '/Users/xzhao17/Documents/GitHub/xcj_hypothesis_test_cfd/gam_180.csv']"
      ]
     },
     "execution_count": 3,
     "metadata": {},
     "output_type": "execute_result"
    }
   ],
   "source": [
    "files = glob.glob(\"/Users/xzhao17/Documents/GitHub/xcj_hypothesis_test_cfd/gam_*.csv\")\n",
    "#files=files[0]\n",
    "files"
   ]
  },
  {
   "cell_type": "code",
   "execution_count": 4,
   "id": "539eb455-6a4a-4332-9815-7a1523b0137c",
   "metadata": {},
   "outputs": [
    {
     "name": "stdout",
     "output_type": "stream",
     "text": [
      "300 & \\multicolumn{1}{l|}{} & 2.5 & 0.0626 & 0.003426 & 0.1118 & 0.004456 \\\\\n"
     ]
    }
   ],
   "source": [
    "line_part1 = '{p1} & {delta} & {fl_choice}'\n",
    "p1_1 = '\\\\multicolumn{{1}}{{l|}}{{\\\\multirow{{4}}{{*}}{{{num_subjects}}}}}'\n",
    "p1_2 = '\\\\multicolumn{{1}}{{l|}}{{}}'\n",
    "line_part2 = ' & {} & {} & {} & {} \\\\\\\\'\n",
    "print(line_part1.format(p1=300, delta=\"\\multicolumn{1}{l|}{}\", fl_choice=2.5) + line_part2.format(0.0626, 0.003426, 0.1118, 0.004456))"
   ]
  },
  {
   "cell_type": "code",
   "execution_count": 7,
   "id": "7b0f4426-bd31-48b4-a031-1e0ef67ca0aa",
   "metadata": {},
   "outputs": [
    {
     "name": "stdout",
     "output_type": "stream",
     "text": [
      "\n",
      "\\begin{table}[H]\n",
      "\\begin{tabular}{lll|ll|ll}\n",
      "\\hline\n",
      " & & & \\multicolumn{2}{c|}{$\\alpha$=0.05} & \\multicolumn{2}{c}{$\\alpha$=0.1} \\\\ \\hline\n",
      "\\multicolumn{1}{l|}{n} & \\multicolumn{1}{l|}{$\\beta(t)$} & $\\delta$ &  $H_0=c$  &  $H_0=0$  & $H_0=c$ & $H_0=0$ \\\\ \\hline\n",
      "\n",
      "\\multicolumn{1}{l|}{\\multirow{4}{*}{100}} & \\multicolumn{1}{l|}{} & 0 & 0.0566 (0.0033) & 0.0530 (0.0032) & 0.1160 (0.0045) & 0.1088 (0.0044) \\\\\n",
      "\\multicolumn{1}{l|}{} & \\multicolumn{1}{c|}{$\\delta$} & 2.5 & 0.0582 (0.0033) &  & 0.1112 (0.0044) &  \\\\\n",
      "\\multicolumn{1}{l|}{} & \\multicolumn{1}{l|}{} & 5 & 0.0616 (0.0034) &  & 0.1156 (0.0045) &  \\\\\n",
      "\\multicolumn{1}{l|}{} & \\multicolumn{1}{l|}{$1+\\delta$ t} & 0 & 0.0580 (0.0033) &  & 0.1126 (0.0045) &  \\\\\n",
      "\\hline\n",
      "\\multicolumn{1}{l|}{\\multirow{4}{*}{300}} & \\multicolumn{1}{l|}{} & 0 & 0.0572 (0.0033) & 0.0562 (0.0033) & 0.1100 (0.0044) & 0.1028 (0.0043) \\\\\n",
      "\\multicolumn{1}{l|}{} & \\multicolumn{1}{c|}{$\\delta$} & 2.5 & 0.0574 (0.0033) &  & 0.1074 (0.0044) &  \\\\\n",
      "\\multicolumn{1}{l|}{} & \\multicolumn{1}{l|}{} & 5 & 0.0584 (0.0033) &  & 0.1104 (0.0044) &  \\\\\n",
      "\\multicolumn{1}{l|}{} & \\multicolumn{1}{l|}{$1+\\delta$ t} & 0 & 0.0556 (0.0032) &  & 0.1072 (0.0044) &  \\\\\n",
      "\\hline\n",
      "\\multicolumn{1}{l|}{\\multirow{4}{*}{500}} & \\multicolumn{1}{l|}{} & 0 & 0.0516 (0.0031) & 0.0562 (0.0033) & 0.0980 (0.0042) & 0.1068 (0.0044) \\\\\n",
      "\\multicolumn{1}{l|}{} & \\multicolumn{1}{c|}{$\\delta$} & 2.5 & 0.0538 (0.0032) &  & 0.1064 (0.0044) &  \\\\\n",
      "\\multicolumn{1}{l|}{} & \\multicolumn{1}{l|}{} & 5 & 0.0558 (0.0032) &  & 0.1064 (0.0044) &  \\\\\n",
      "\\multicolumn{1}{l|}{} & \\multicolumn{1}{l|}{$1+\\delta$ t} & 0 & 0.0580 (0.0033) &  & 0.1100 (0.0044) &  \\\\\n",
      "\\hline\n",
      "\\multicolumn{1}{l|}{\\multirow{4}{*}{1000}} & \\multicolumn{1}{l|}{} & 0 & 0.0566 (0.0033) & 0.0588 (0.0033) & 0.1040 (0.0043) & 0.1122 (0.0045) \\\\\n",
      "\\multicolumn{1}{l|}{} & \\multicolumn{1}{c|}{$\\delta$} & 2.5 & 0.0540 (0.0032) &  & 0.1044 (0.0043) &  \\\\\n",
      "\\multicolumn{1}{l|}{} & \\multicolumn{1}{l|}{} & 5 & 0.0556 (0.0032) &  & 0.1090 (0.0044) &  \\\\\n",
      "\\multicolumn{1}{l|}{} & \\multicolumn{1}{l|}{$1+\\delta$ t} & 0 & 0.0558 (0.0032) &  & 0.1030 (0.0043) &  \\\\\n",
      "\\hline\n",
      "\n",
      "\\end{tabular}\n",
      "\\caption{Rejection Rate(Standard Error) for $5000$ simulations when the number of time points is $90$ using RLRT and L2 penalty for non-testing item }\n",
      "\\label{typeI90l2gam}\n",
      "\\end{table}\n",
      "\n",
      "\n",
      "\\begin{table}[H]\n",
      "\\begin{tabular}{lll|ll|ll}\n",
      "\\hline\n",
      " & & & \\multicolumn{2}{c|}{$\\alpha$=0.05} & \\multicolumn{2}{c}{$\\alpha$=0.1} \\\\ \\hline\n",
      "\\multicolumn{1}{l|}{n} & \\multicolumn{1}{l|}{$\\beta(t)$} & $\\delta$ &  $H_0=c$  &  $H_0=0$  & $H_0=c$ & $H_0=0$ \\\\ \\hline\n",
      "\n",
      "\\multicolumn{1}{l|}{\\multirow{4}{*}{100}} & \\multicolumn{1}{l|}{} & 0 & 0.0604 (0.0034) & 0.0534 (0.0032) & 0.1146 (0.0045) & 0.1024 (0.0043) \\\\\n",
      "\\multicolumn{1}{l|}{} & \\multicolumn{1}{c|}{$\\delta$} & 2.5 & 0.0638 (0.0035) &  & 0.1104 (0.0044) &  \\\\\n",
      "\\multicolumn{1}{l|}{} & \\multicolumn{1}{l|}{} & 5 & 0.0612 (0.0034) &  & 0.1112 (0.0044) &  \\\\\n",
      "\\multicolumn{1}{l|}{} & \\multicolumn{1}{l|}{$1+\\delta$ t} & 0 & 0.0636 (0.0035) &  & 0.1174 (0.0046) &  \\\\\n",
      "\\hline\n",
      "\\multicolumn{1}{l|}{\\multirow{4}{*}{300}} & \\multicolumn{1}{l|}{} & 0 & 0.0526 (0.0032) & 0.0556 (0.0032) & 0.1036 (0.0043) & 0.1094 (0.0044) \\\\\n",
      "\\multicolumn{1}{l|}{} & \\multicolumn{1}{c|}{$\\delta$} & 2.5 & 0.0564 (0.0033) &  & 0.1160 (0.0045) &  \\\\\n",
      "\\multicolumn{1}{l|}{} & \\multicolumn{1}{l|}{} & 5 & 0.0570 (0.0033) &  & 0.1158 (0.0045) &  \\\\\n",
      "\\multicolumn{1}{l|}{} & \\multicolumn{1}{l|}{$1+\\delta$ t} & 0 & 0.0570 (0.0033) &  & 0.1128 (0.0045) &  \\\\\n",
      "\\hline\n",
      "\\multicolumn{1}{l|}{\\multirow{4}{*}{500}} & \\multicolumn{1}{l|}{} & 0 & 0.0608 (0.0034) & 0.0572 (0.0033) & 0.1074 (0.0044) & 0.1092 (0.0044) \\\\\n",
      "\\multicolumn{1}{l|}{} & \\multicolumn{1}{c|}{$\\delta$} & 2.5 & 0.0620 (0.0034) &  & 0.1128 (0.0045) &  \\\\\n",
      "\\multicolumn{1}{l|}{} & \\multicolumn{1}{l|}{} & 5 & 0.0504 (0.0031) &  & 0.1008 (0.0043) &  \\\\\n",
      "\\multicolumn{1}{l|}{} & \\multicolumn{1}{l|}{$1+\\delta$ t} & 0 & 0.0526 (0.0032) &  & 0.1028 (0.0043) &  \\\\\n",
      "\\hline\n",
      "\\multicolumn{1}{l|}{\\multirow{4}{*}{1000}} & \\multicolumn{1}{l|}{} & 0 & 0.0532 (0.0032) & 0.0578 (0.0033) & 0.1024 (0.0043) & 0.1106 (0.0044) \\\\\n",
      "\\multicolumn{1}{l|}{} & \\multicolumn{1}{c|}{$\\delta$} & 2.5 & 0.0586 (0.0033) &  & 0.1104 (0.0044) &  \\\\\n",
      "\\multicolumn{1}{l|}{} & \\multicolumn{1}{l|}{} & 5 & 0.0546 (0.0032) &  & 0.1048 (0.0043) &  \\\\\n",
      "\\multicolumn{1}{l|}{} & \\multicolumn{1}{l|}{$1+\\delta$ t} & 0 & 0.0498 (0.0031) &  & 0.1026 (0.0043) &  \\\\\n",
      "\\hline\n",
      "\n",
      "\\end{tabular}\n",
      "\\caption{Rejection Rate(Standard Error) for $5000$ simulations when the number of time points is $180$ using RLRT and L2 penalty for non-testing item }\n",
      "\\label{typeI180l2gam}\n",
      "\\end{table}\n",
      "\n"
     ]
    }
   ],
   "source": [
    "for file in files:\n",
    "    timepoints = os.path.basename(file)[:-4].split(\"_\")[-1]\n",
    "    df = pd.read_csv(file)\n",
    "    df[\"fl_choice_factor\"] = df[\"fl_choice\"].apply(lambda x: {6:0, 200:1, 7:2, 21:3}[x])\n",
    "    df.sort_values([\"num_subjects\", \"fl_choice_factor\"], inplace=True)\n",
    "\n",
    "    print(PRE_TEXT)\n",
    "    flc_to_col1_empty = r\"\\multicolumn{1}{l|}{}\"\n",
    "    flc_to_col2 = {0: r\"\\multicolumn{1}{l|}{}\", 2: r\"\\multicolumn{1}{l|}{}\", 1: r\"\\multicolumn{1}{c|}{$\\delta$}\", 3: r\"\\multicolumn{1}{l|}{$1+\\delta$ t}\"}\n",
    "    flc_to_col3 = {0: 0, 1: 2.5, 2: 5, 3: 0}\n",
    "    for num_subj in sorted(df[\"num_subjects\"].unique()):\n",
    "        for flc in sorted(df[\"fl_choice_factor\"].unique()):\n",
    "            p1 = p1_1.format(num_subjects=num_subj) if flc == 0 else p1_2.format(num_subjects=num_subj)\n",
    "            recf = df[(df[\"fl_choice_factor\"] == flc) & (df[\"num_subjects\"] == num_subj) & (df[\"test_type\"] == \"Functional\")]\n",
    "            reci = df[(df[\"fl_choice_factor\"] == flc) & (df[\"num_subjects\"] == num_subj) & (df[\"test_type\"] == \"Inclusion\")]\n",
    "            f05 = \"{:.04f} ({:.04f})\".format(recf.iloc[0][\"power\"], recf.iloc[0][\"se\"])\n",
    "            i05 = \"{:.04f} ({:.04f})\".format(reci.iloc[0][\"power\"], reci.iloc[0][\"se\"]) if reci.shape[0] > 0 else \"\"\n",
    "            f10 = \"{:.04f} ({:.04f})\".format(recf.iloc[0][\"power_01\"], recf.iloc[0][\"se01\"])\n",
    "            i10 = \"{:.04f} ({:.04f})\".format(reci.iloc[0][\"power_01\"], reci.iloc[0][\"se01\"]) if reci.shape[0] > 0 else \"\"\n",
    "            print(line_part1.format(p1=p1, delta=flc_to_col2[flc], fl_choice=flc_to_col3[flc]) + line_part2.format(f05, i05, f10, i10))\n",
    "        print(r\"\\hline\")\n",
    "    print(re.sub(\"<timepoints_value/>\", f\"{timepoints}\", POST_TEXT))"
   ]
  },
  {
   "cell_type": "code",
   "execution_count": null,
   "id": "987c3b9d-78ba-418f-84af-ed40e480452b",
   "metadata": {},
   "outputs": [],
   "source": []
  }
 ],
 "metadata": {
  "colab": {
   "provenance": []
  },
  "kernelspec": {
   "display_name": "Python 3 (ipykernel)",
   "language": "python",
   "name": "python3"
  },
  "language_info": {
   "codemirror_mode": {
    "name": "ipython",
    "version": 3
   },
   "file_extension": ".py",
   "mimetype": "text/x-python",
   "name": "python",
   "nbconvert_exporter": "python",
   "pygments_lexer": "ipython3",
   "version": "3.9.18"
  }
 },
 "nbformat": 4,
 "nbformat_minor": 5
}
